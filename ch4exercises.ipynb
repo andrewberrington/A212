{
 "cells": [
  {
   "cell_type": "code",
   "execution_count": 3,
   "metadata": {
    "collapsed": false
   },
   "outputs": [
    {
     "name": "stdout",
     "output_type": "stream",
     "text": [
      "Enter amount of money in your lunch account: 118.39\n",
      "Enter the day of the month: 17\n",
      "Enter the amount of days in the month: 30\n",
      "\n",
      "How much money (in dollars) in your lunch account? = $118.39\n",
      "What day of the month is today? = 17.0\n",
      "How many days in this month? = 30.0\n",
      "You can spend $9.11 each day for the rest of the month\n"
     ]
    }
   ],
   "source": [
    "# Pine 4.1\n",
    "\n",
    "lunchaccount = float(input(\"Enter amount of money in your lunch account: \"))\n",
    "dayofmonth = float(input(\"Enter the day of the month: \"))\n",
    "daysinmonth = float(input(\"Enter the amount of days in the month: \"))\n",
    "\n",
    "amountleft = (lunchaccount/(daysinmonth-dayofmonth))\n",
    "\n",
    "print(\"\\nHow much money (in dollars) in your lunch account? = ${0:0.2f}\".format(lunchaccount))\n",
    "\n",
    "print(\"What day of the month is today? = {0:0.1f}\".format(dayofmonth))\n",
    "\n",
    "print(\"How many days in this month? = {0:0.1f}\".format(daysinmonth))\n",
    "\n",
    "print(\"You can spend ${0:0.2f} each day for the rest of the month\".format(amountleft))"
   ]
  },
  {
   "cell_type": "code",
   "execution_count": 1,
   "metadata": {
    "collapsed": false
   },
   "outputs": [
    {
     "name": "stdout",
     "output_type": "stream",
     "text": [
      "[  0.75     1.7885   2.8269   3.8654   4.9038   5.9423   6.9808   8.0192\n",
      "   9.0577  10.0962  11.1346  12.1731  13.2115  14.25  ]\n",
      "[ 13.52  12.11  14.27  16.6   22.91  35.28  60.99  33.38  17.78  10.99\n",
      "   7.47   6.72   4.4    4.07]\n",
      "[ 0.32  0.92  0.73  2.06  1.75  0.91  0.99  0.36  2.32  0.21  0.48  0.51\n",
      "  0.58  0.63]\n"
     ]
    }
   ],
   "source": [
    "# Pine 4.3\n",
    "\n",
    "import numpy as np\n",
    "f, a, da = np.loadtxt(\"ch4dat.txt\",\n",
    "      skiprows=3 , unpack=True)\n",
    "\n",
    "print(f)\n",
    "print(a)\n",
    "print(da)"
   ]
  },
  {
   "cell_type": "code",
   "execution_count": null,
   "metadata": {
    "collapsed": true
   },
   "outputs": [],
   "source": []
  }
 ],
 "metadata": {
  "kernelspec": {
   "display_name": "Python 3",
   "language": "python",
   "name": "python3"
  },
  "language_info": {
   "codemirror_mode": {
    "name": "ipython",
    "version": 3
   },
   "file_extension": ".py",
   "mimetype": "text/x-python",
   "name": "python",
   "nbconvert_exporter": "python",
   "pygments_lexer": "ipython3",
   "version": "3.5.1"
  }
 },
 "nbformat": 4,
 "nbformat_minor": 0
}
