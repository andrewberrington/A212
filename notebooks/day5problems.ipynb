{
 "cells": [
  {
   "cell_type": "code",
   "execution_count": 2,
   "metadata": {
    "collapsed": false
   },
   "outputs": [
    {
     "name": "stdout",
     "output_type": "stream",
     "text": [
      "1 2 6 120\n"
     ]
    }
   ],
   "source": [
    "# Exercise 1a: Finding the factorial of an integer using a while loop\n",
    "\n",
    "def factorialwhile(n):\n",
    "    '''Calculate factorial of a number using a while loop\n",
    "    input: n (integer)\n",
    "    output: numf (integer)'''\n",
    "    numf = 1\n",
    "    if n < 0:\n",
    "        print(\"Factorial doesn't exist for negative numbers\")\n",
    "    elif n == 0:\n",
    "        print(\"Factorial of 0 is 1\")\n",
    "    else:\n",
    "        while n >= 1:\n",
    "            numf = numf * n\n",
    "            n = n - 1\n",
    "    return numf\n",
    "\n",
    "onefact = factorialwhile(1)\n",
    "twofact = factorialwhile(2)\n",
    "threefact = factorialwhile(3)\n",
    "fivefact = factorialwhile(5)\n",
    "\n",
    "print(onefact,twofact,threefact,fivefact)"
   ]
  },
  {
   "cell_type": "code",
   "execution_count": 3,
   "metadata": {
    "collapsed": false
   },
   "outputs": [
    {
     "name": "stdout",
     "output_type": "stream",
     "text": [
      "1 2 6 120\n"
     ]
    }
   ],
   "source": [
    "# Exercise 1b: Finding the factorial of an integer using a for loop\n",
    "\n",
    "def factorialfor(num):\n",
    "    '''Calculate factorial of a number using a for loop\n",
    "    input: num (integer)\n",
    "    output: factorial (integer)'''\n",
    "    \n",
    "    factorial = 1\n",
    "    if num < 0:\n",
    "        print(\"Factorial doesn't exist for negative numbers\")\n",
    "    elif num == 0:\n",
    "        print(\"Factorial of 0 is 1\")\n",
    "    else:\n",
    "        for i in range(1,num+1):\n",
    "            factorial = factorial*i\n",
    "    return factorial\n",
    "\n",
    "onefact2 = factorialfor(1)\n",
    "twofact2 = factorialfor(2)\n",
    "threefact2 = factorialfor(3)\n",
    "fivefact2 = factorialfor(5)\n",
    "\n",
    "print(onefact2,twofact2,threefact2,fivefact2)"
   ]
  },
  {
   "cell_type": "code",
   "execution_count": null,
   "metadata": {
    "collapsed": false
   },
   "outputs": [
    {
     "name": "stdout",
     "output_type": "stream",
     "text": [
      "Input an integer > 1: 30\n",
      "The smallest factor of n is: 2\n"
     ]
    }
   ],
   "source": [
    "# Exercise 2a\n",
    "\n",
    "n = int(input(\"Input an integer > 1: \"))\n",
    "i = 2\n",
    "\n",
    "while (n % i) != 0:\n",
    "    i += 1\n",
    "\n",
    "print(\"The smallest factor of n is:\", i )\n",
    "\n",
    "# This works because the remainder (via the modulus operator) is always kept above 0 via the != logical\n",
    "# i is initialized at 2, and continues to get larger via the loop until the condition no longer holds"
   ]
  },
  {
   "cell_type": "code",
   "execution_count": 16,
   "metadata": {
    "collapsed": false
   },
   "outputs": [
    {
     "name": "stdout",
     "output_type": "stream",
     "text": [
      "Input an integer > 1: 101\n",
      "101 is a prime number\n"
     ]
    }
   ],
   "source": [
    "# Exercise 2b\n",
    "\n",
    "n2 = int(input(\"Input an integer > 1: \"))\n",
    "i2 = 2\n",
    "\n",
    "while (n2 % i2) != 0:\n",
    "    i2 += 1\n",
    "\n",
    "if i2 == n2:\n",
    "    print(\"{} is a prime number\".format(n2))\n",
    "else:    \n",
    "    print(\"The smallest factor of n is:\", i2 )"
   ]
  },
  {
   "cell_type": "code",
   "execution_count": 15,
   "metadata": {
    "collapsed": false
   },
   "outputs": [
    {
     "name": "stdout",
     "output_type": "stream",
     "text": [
      "[3, 6, 9]\n",
      "[2, 5, 8]\n",
      "[4, 25, 64]\n"
     ]
    }
   ],
   "source": [
    "# Exercise 3\n",
    "\n",
    "x = [[1, 2, 3], [4, 5, 6], [7, 8, 9]]\n",
    "\n",
    "thirdc = [b[2] for b in x]\n",
    "print(thirdc)\n",
    "\n",
    "secondc = [a[1] for a in x]\n",
    "sqrsecondc = [m*m for m in secondc]\n",
    "\n",
    "print(secondc)\n",
    "print(sqrsecondc)"
   ]
  },
  {
   "cell_type": "code",
   "execution_count": null,
   "metadata": {
    "collapsed": true
   },
   "outputs": [],
   "source": []
  }
 ],
 "metadata": {
  "kernelspec": {
   "display_name": "Python 3",
   "language": "python",
   "name": "python3"
  },
  "language_info": {
   "codemirror_mode": {
    "name": "ipython",
    "version": 3
   },
   "file_extension": ".py",
   "mimetype": "text/x-python",
   "name": "python",
   "nbconvert_exporter": "python",
   "pygments_lexer": "ipython3",
   "version": "3.5.1"
  }
 },
 "nbformat": 4,
 "nbformat_minor": 0
}
