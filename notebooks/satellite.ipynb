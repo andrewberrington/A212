{
 "cells": [
  {
   "cell_type": "markdown",
   "metadata": {},
   "source": [
    "Download a Modis Aqua scene from http://modis.gsfc.nasa.gov/data/dataprod/"
   ]
  },
  {
   "cell_type": "code",
   "execution_count": null,
   "metadata": {
    "collapsed": false
   },
   "outputs": [
    {
     "data": {
      "text/plain": [
       "'/Users/berringtonaca/repos/A212/notebooks'"
      ]
     },
     "execution_count": 1,
     "metadata": {},
     "output_type": "execute_result"
    }
   ],
   "source": [
    "pwd"
   ]
  },
  {
   "cell_type": "code",
   "execution_count": null,
   "metadata": {
    "collapsed": false
   },
   "outputs": [],
   "source": [
    "import site\n",
    "site.addsitedir(\"/Users/berringtonaca/repos/A212\")\n",
    "from a212utils.download import download_file\n",
    "from IPython.display import Image\n",
    "import h5py\n",
    "from pathlib import Path\n",
    "\n",
    "download = True\n",
    "if download:\n",
    "    #\n",
    "    #  satelite data for day 127 of 2014  Modis Aqua level 3 cloud data\n",
    "    #\n",
    "    url = 'http://clouds.eos.ubc.ca/~phil/Downloads/a212/fields.h5'\n",
    "    local_file = download_file(url)\n",
    "    print('downloaded {}'.format(local_file))"
   ]
  },
  {
   "cell_type": "code",
   "execution_count": null,
   "metadata": {
    "collapsed": false
   },
   "outputs": [],
   "source": [
    "%matplotlib inline\n",
    "import a212data\n",
    "picwidth = 800\n",
    "datadir = a212data.__path__[0]\n",
    "image_path = Path(datadir).joinpath('MYBRGB.A2014127.2110.005.2014128174940.jpg')\n",
    "print(str(image_path))\n",
    "out=Image(str(image_path),width=picwidth)\n",
    "display(out)"
   ]
  },
  {
   "cell_type": "markdown",
   "metadata": {},
   "source": [
    "Use [h5py](http://docs.h5py.org/en/latest/)   to read the image data"
   ]
  },
  {
   "cell_type": "code",
   "execution_count": null,
   "metadata": {
    "collapsed": false
   },
   "outputs": [],
   "source": [
    "from a212utils.h5dump import dumph5\n",
    "dumph5(local_file)"
   ]
  },
  {
   "cell_type": "code",
   "execution_count": null,
   "metadata": {
    "collapsed": false
   },
   "outputs": [],
   "source": [
    "with h5py.File(local_file,'r') as f:\n",
    "    file_dict = {}\n",
    "    vars = ['ch29','ch31','cloud_mask','phase']\n",
    "    for name in vars:\n",
    "        fullname = '/A2014127/{}'.format(name)\n",
    "        file_dict[name] = f[fullname][...]\n",
    "    file_dict.update(f.attrs.items())"
   ]
  },
  {
   "cell_type": "code",
   "execution_count": null,
   "metadata": {
    "collapsed": false
   },
   "outputs": [],
   "source": [
    "file_dict.keys()"
   ]
  },
  {
   "cell_type": "code",
   "execution_count": null,
   "metadata": {
    "collapsed": false
   },
   "outputs": [],
   "source": [
    "#\n",
    "# make a 5 color palette\n",
    "#\n",
    "import seaborn as sns\n",
    "from matplotlib.colors import ListedColormap, LinearSegmentedColormap \n",
    "colors = [\"royal blue\", \"baby blue\", \"eggshell\", \"burnt red\", \"soft pink\"]\n",
    "print([the_color for the_color in colors])\n",
    "colors=[sns.xkcd_rgb[the_color] for the_color in colors]\n",
    "pal=ListedColormap(colors,N=5)"
   ]
  },
  {
   "cell_type": "code",
   "execution_count": null,
   "metadata": {
    "collapsed": false
   },
   "outputs": [],
   "source": [
    "# #\n",
    "# the A2014127.2110 scene is a descending orbit, so south is on top\n",
    "# and west is on the right, need to rotate through 180 degrees\n",
    "#\n",
    "%matplotlib inline\n",
    "from matplotlib import pyplot as plt\n",
    "fig,ax = plt.subplots(1,1,figsize = (10,10))\n",
    "phase_rot=np.rot90(file_dict['phase'],2)\n",
    "CS=ax.imshow(phase_rot,cmap=pal)\n",
    "ax.set_title('ungridded phase map with 2 rotations')\n",
    "cax=fig.colorbar(CS)\n",
    "#\n",
    "# we wrote the phase legend into the h5 attributes\n",
    "# use it to label the color axis\n",
    "#\n",
    "labels=file_dict['phase_vals']\n",
    "labels=labels.split(',')\n",
    "ends=np.linspace(0,4,6)\n",
    "centers=(ends[1:] + ends[:-1])/2.\n",
    "cax.set_ticks(centers)\n",
    "cax.set_ticklabels(labels)"
   ]
  },
  {
   "cell_type": "code",
   "execution_count": null,
   "metadata": {
    "collapsed": false
   },
   "outputs": [],
   "source": [
    "plt.close('all')\n",
    "fig,ax=plt.subplots(1,1)\n",
    "ax.hist(phase_rot.ravel())\n",
    "ax.set_title('Gridded: Mask - 0 = Cloud,1 = 66% prob.\\n Clear,2 = 95% prob. Clear,3 = 99% prob. Clear')"
   ]
  },
  {
   "cell_type": "code",
   "execution_count": null,
   "metadata": {
    "collapsed": false
   },
   "outputs": [],
   "source": [
    "plt.close('all')\n",
    "from matplotlib.colors import Normalize\n",
    "from numpy import ma\n",
    "fig,ax=plt.subplots(1,1,figsize=(12,12))\n",
    "colors=sns.color_palette('coolwarm')\n",
    "pal=LinearSegmentedColormap.from_list('test',colors)\n",
    "pal.set_bad('0.75') #75% grey\n",
    "pal.set_over('r')\n",
    "pal.set_under('k')\n",
    "vmin= -5.\n",
    "vmax= 5.\n",
    "ch29 = np.rot90(file_dict['ch29'],2)\n",
    "ch31 = np.rot90(file_dict['ch31'],2)\n",
    "the_norm=Normalize(vmin=vmin,vmax=vmax,clip=False)\n",
    "tdiff= ch29 - ch31\n",
    "tdiff=ma.array(tdiff,mask=np.isnan(tdiff))\n",
    "CS= ax.imshow(tdiff,cmap=pal,norm=the_norm)\n",
    "cax=plt.colorbar(CS,  ax = ax,extend='both')\n",
    "cax.set_label('ch29 - ch31 brightnes temp (K)')\n",
    "ax.set_title('TB 8 micron - TB 11 micron')\n",
    "\n",
    "\n"
   ]
  },
  {
   "cell_type": "markdown",
   "metadata": {},
   "source": [
    "### For next Tuesday: check in a notebook that\n",
    "\n",
    "1. Create a pandas Dataframe with 3 columns:  phase, ch29, ch31 using rows\n",
    "   1100:1500 of the rotated image\n",
    "   \n",
    "2. Use groupby on the phase column to collect pixels with the same phase\n",
    "\n",
    "3. Loop through each of the phases and calculate the mean ch29 and ch 31 values\n",
    "   for that phase and the mean of the differences.\n",
    "   \n",
    "4. Write those results out as a new DataFrame with 5 columns (1 for each phase)\n",
    "   and 1 row"
   ]
  },
  {
   "cell_type": "code",
   "execution_count": null,
   "metadata": {
    "collapsed": true
   },
   "outputs": [],
   "source": []
  }
 ],
 "metadata": {
  "kernelspec": {
   "display_name": "Python 3",
   "language": "python",
   "name": "python3"
  },
  "language_info": {
   "codemirror_mode": {
    "name": "ipython",
    "version": 3
   },
   "file_extension": ".py",
   "mimetype": "text/x-python",
   "name": "python",
   "nbconvert_exporter": "python",
   "pygments_lexer": "ipython3",
   "version": "3.5.1"
  }
 },
 "nbformat": 4,
 "nbformat_minor": 0
}
