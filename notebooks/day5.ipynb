{
 "cells": [
  {
   "cell_type": "markdown",
   "metadata": {},
   "source": [
    "### 6.1 factorial using while and for "
   ]
  },
  {
   "cell_type": "code",
   "execution_count": 2,
   "metadata": {
    "collapsed": false
   },
   "outputs": [
    {
     "name": "stdout",
     "output_type": "stream",
     "text": [
      "factorial of 10\n",
      "my factorial=  3628800\n",
      "numpy factorial=  3628800\n",
      "for loop factorial:  3628800\n"
     ]
    }
   ],
   "source": [
    "import numpy\n",
    "origfac=10\n",
    "fac=origfac\n",
    "accum=1\n",
    "while fac > 1:\n",
    "    accum=accum*fac\n",
    "    fac-=1\n",
    "print('factorial of {}'.format(origfac))\n",
    "print('my factorial= ',accum)\n",
    "print('numpy factorial= ',np.math.factorial(origfac))\n",
    "\n",
    "accum=1\n",
    "vals = numpy.arange(origfac,0,-1)\n",
    "for item in vals:\n",
    "    accum=accum*item\n",
    "print('for loop factorial: ',accum)\n"
   ]
  },
  {
   "cell_type": "markdown",
   "metadata": {},
   "source": [
    "### 6.2a smallest prime factor"
   ]
  },
  {
   "cell_type": "code",
   "execution_count": 3,
   "metadata": {
    "collapsed": false
   },
   "outputs": [
    {
     "name": "stdout",
     "output_type": "stream",
     "text": [
      "Input an integer > 1: 101\n",
      "The smallest factor of n is: 101\n"
     ]
    }
   ],
   "source": [
    "n = int(input(\"Input an integer > 1: \"))\n",
    "i = 2\n",
    "\n",
    "while (n % i) != 0:\n",
    "    i += 1\n",
    "\n",
    "print(\"The smallest factor of n is:\", i )"
   ]
  },
  {
   "cell_type": "markdown",
   "metadata": {},
   "source": [
    "### 6.2b is integer prime"
   ]
  },
  {
   "cell_type": "code",
   "execution_count": 4,
   "metadata": {
    "collapsed": false
   },
   "outputs": [
    {
     "name": "stdout",
     "output_type": "stream",
     "text": [
      "Input an integer > 1: 101\n",
      "Is 101 prime? Smallest factor is prime\n"
     ]
    }
   ],
   "source": [
    "n = int(input(\"Input an integer > 1: \"))\n",
    "def find_prime(n):\n",
    "    i = 2\n",
    "    while (n % i) != 0:\n",
    "        i += 1\n",
    "    if i == n:\n",
    "        out='prime'\n",
    "    else:\n",
    "        out=i\n",
    "    return out\n",
    "\n",
    "print('Is {} prime? Smallest factor is {}'.format(n,find_prime(n)))\n",
    "        \n",
    "\n"
   ]
  },
  {
   "cell_type": "markdown",
   "metadata": {},
   "source": [
    "### 6.3 list comprehensions"
   ]
  },
  {
   "cell_type": "code",
   "execution_count": 13,
   "metadata": {
    "collapsed": false
   },
   "outputs": [
    {
     "name": "stdout",
     "output_type": "stream",
     "text": [
      "[3, 6, 9]\n",
      "[8.0, 50.0, 128.0]\n"
     ]
    }
   ],
   "source": [
    "x = [[1, 2, 3], [4, 5, 6], [7, 8, 9]]\n",
    "last_col = [x[i][-1] for i in range(len(x))]\n",
    "print(last_col)\n",
    "square2 = [2.*(x[i][1])**2. for i in range(len(x))]\n",
    "print(square2)"
   ]
  },
  {
   "cell_type": "code",
   "execution_count": null,
   "metadata": {
    "collapsed": true
   },
   "outputs": [],
   "source": []
  }
 ],
 "metadata": {
  "kernelspec": {
   "display_name": "Python 3",
   "language": "python",
   "name": "python3"
  },
  "language_info": {
   "codemirror_mode": {
    "name": "ipython",
    "version": 3
   },
   "file_extension": ".py",
   "mimetype": "text/x-python",
   "name": "python",
   "nbconvert_exporter": "python",
   "pygments_lexer": "ipython3",
   "version": "3.5.1"
  }
 },
 "nbformat": 4,
 "nbformat_minor": 0
}
