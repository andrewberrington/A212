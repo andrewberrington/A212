{
 "cells": [
  {
   "cell_type": "markdown",
   "metadata": {},
   "source": [
    "def LineFitWt(x, y, dy):\n",
    "    \"\"\"Evaluates a weighted linear regression and calculates the errors in\n",
    "    the deviation of a and b\n",
    "\n",
    "    Parameters:\n",
    "    x: array (any shape)\n",
    "    y: array (any shape)\n",
    "    dy: deviation of y (array, any shape)\n",
    "\n",
    "    Returns:\n",
    "    slope: scalar (float)\n",
    "    yint: scalar (float)\n",
    "    sigma_b_error: scalar (float)\n",
    "    sigma_a_error: scalar (float)\n",
    "    \n",
    "    Example:\n",
    "    LineFitWt([2,9,1,4,5],[6,4,2,1,2],[0.5,0.3,0.6,0.7,0.4])\n",
    "    (0.066112348651233666, 3.0027585519020397, 0.063751727558763752, 0.41468364136714186)\n",
    "    \"\"\"\n",
    "\n",
    "    if type(x) != np.ndarray:\n",
    "        raise ValueError(\n",
    "            \"expected x type of array got {}\",\n",
    "            format(type(x)))\n",
    "\n",
    "    if type(y) != np.ndarray:\n",
    "        raise ValueError(\n",
    "            \"expected y type of array got {}\",\n",
    "            format(type(y)))\n",
    "\n",
    "    if type(dy) != np.ndarray:\n",
    "        raise ValueError(\n",
    "            \"expected dy type of array got {}\",\n",
    "            format(type(dy)))\n",
    "\n",
    "    dy2 = dy**2.\n",
    "    denom= np.sum(1/(dy**2.))  # Pine 7.14\n",
    "    xnumerator = np.sum(x/dy2)\n",
    "    ynumerator = np.sum(y/dy2)\n",
    "    xhat = xnumerator/denom\n",
    "    yhat = ynumerator/denom\n",
    "    bnum = np.sum((x - xhat)*y/dy2)\n",
    "    bdenom = np.sum((x - xhat)*x/dy2)\n",
    "    slope = bnum/bdenom\n",
    "    yint = yhat - slope*xhat\n",
    "    sigma_b_error = np.sqrt(1/np.sum(((x - xhat)*x)/dy2))\n",
    "    sigma_a_error = np.sqrt(sigma_b_error**2*((np.sum(x**2/dy2))/denom))\n",
    "    return slope,yint,sigma_b_error,sigma_a_error"
   ]
  },
  {
   "cell_type": "code",
   "execution_count": 1,
   "metadata": {
    "collapsed": false
   },
   "outputs": [
    {
     "name": "stdout",
     "output_type": "stream",
     "text": [
      "running linfit tests\n",
      "(0.066112348651233666, 3.0027585519020397, 0.063751727558763752, 0.41468364136714186)\n"
     ]
    }
   ],
   "source": [
    "import linfit\n",
    "import numpy as np\n",
    "import numpy.testing as ntest\n",
    "import doctest\n",
    "\n",
    "x=np.array([2,9,1,4,5])\n",
    "y=np.array([6,4,2,1,2])\n",
    "dy=np.array([0.5,0.3,0.6,0.7,0.4])\n",
    "\n",
    "def test_linfit():\n",
    "    out = linfit.LineFitWt(x,y,dy)\n",
    "    ntest.assert_almost_equal(out, [0.06611234, 3.00275855, 0.06375172, 0.41468364])\n",
    "    \n",
    "if __name__ == \"__main__\":\n",
    "    print('running linfit tests')\n",
    "    test_linfit()\n",
    "    doctest.testmod()\n",
    "print(linfit.LineFitWt(x,y,dy))"
   ]
  },
  {
   "cell_type": "code",
   "execution_count": 2,
   "metadata": {
    "collapsed": false
   },
   "outputs": [
    {
     "ename": "ValueError",
     "evalue": "('expected x type of array got {}', \"<class 'int'>\")",
     "output_type": "error",
     "traceback": [
      "\u001b[0;31m---------------------------------------------------------------------------\u001b[0m",
      "\u001b[0;31mValueError\u001b[0m                                Traceback (most recent call last)",
      "\u001b[0;32m<ipython-input-2-3d519ef27bb3>\u001b[0m in \u001b[0;36m<module>\u001b[0;34m()\u001b[0m\n\u001b[1;32m      2\u001b[0m \u001b[0my2\u001b[0m \u001b[0;34m=\u001b[0m \u001b[0mnp\u001b[0m\u001b[0;34m.\u001b[0m\u001b[0marray\u001b[0m\u001b[0;34m(\u001b[0m\u001b[0;34m[\u001b[0m\u001b[0;36m4\u001b[0m\u001b[0;34m,\u001b[0m\u001b[0;36m5\u001b[0m\u001b[0;34m]\u001b[0m\u001b[0;34m)\u001b[0m\u001b[0;34m\u001b[0m\u001b[0m\n\u001b[1;32m      3\u001b[0m \u001b[0mdy2\u001b[0m \u001b[0;34m=\u001b[0m \u001b[0mnp\u001b[0m\u001b[0;34m.\u001b[0m\u001b[0marray\u001b[0m\u001b[0;34m(\u001b[0m\u001b[0;34m[\u001b[0m\u001b[0;36m0.3\u001b[0m\u001b[0;34m,\u001b[0m\u001b[0;36m0.8\u001b[0m\u001b[0;34m]\u001b[0m\u001b[0;34m)\u001b[0m\u001b[0;34m\u001b[0m\u001b[0m\n\u001b[0;32m----> 4\u001b[0;31m \u001b[0mlinfit\u001b[0m\u001b[0;34m.\u001b[0m\u001b[0mLineFitWt\u001b[0m\u001b[0;34m(\u001b[0m\u001b[0mx2\u001b[0m\u001b[0;34m,\u001b[0m\u001b[0my2\u001b[0m\u001b[0;34m,\u001b[0m\u001b[0mdy2\u001b[0m\u001b[0;34m)\u001b[0m\u001b[0;34m\u001b[0m\u001b[0m\n\u001b[0m",
      "\u001b[0;32m/Users/berringtonaca/repos/A212/notebooks/linfit.py\u001b[0m in \u001b[0;36mLineFitWt\u001b[0;34m(x, y, dy)\u001b[0m\n\u001b[1;32m     26\u001b[0m         raise ValueError(\n\u001b[1;32m     27\u001b[0m             \u001b[0;34m\"expected x type of array got {}\"\u001b[0m\u001b[0;34m,\u001b[0m\u001b[0;34m\u001b[0m\u001b[0m\n\u001b[0;32m---> 28\u001b[0;31m             format(type(x)))\n\u001b[0m\u001b[1;32m     29\u001b[0m \u001b[0;34m\u001b[0m\u001b[0m\n\u001b[1;32m     30\u001b[0m     \u001b[0;32mif\u001b[0m \u001b[0mtype\u001b[0m\u001b[0;34m(\u001b[0m\u001b[0my\u001b[0m\u001b[0;34m)\u001b[0m \u001b[0;34m!=\u001b[0m \u001b[0mnp\u001b[0m\u001b[0;34m.\u001b[0m\u001b[0mndarray\u001b[0m\u001b[0;34m:\u001b[0m\u001b[0;34m\u001b[0m\u001b[0m\n",
      "\u001b[0;31mValueError\u001b[0m: ('expected x type of array got {}', \"<class 'int'>\")"
     ]
    }
   ],
   "source": [
    "x2 = (4)\n",
    "y2 = np.array([4,5])\n",
    "dy2 = np.array([0.3,0.8])\n",
    "linfit.LineFitWt(x2,y2,dy2)"
   ]
  },
  {
   "cell_type": "code",
   "execution_count": 3,
   "metadata": {
    "collapsed": false
   },
   "outputs": [
    {
     "ename": "ValueError",
     "evalue": "length of arrays must be equal",
     "output_type": "error",
     "traceback": [
      "\u001b[0;31m---------------------------------------------------------------------------\u001b[0m",
      "\u001b[0;31mValueError\u001b[0m                                Traceback (most recent call last)",
      "\u001b[0;32m<ipython-input-3-cf13e531e6f2>\u001b[0m in \u001b[0;36m<module>\u001b[0;34m()\u001b[0m\n\u001b[1;32m      2\u001b[0m \u001b[0my3\u001b[0m \u001b[0;34m=\u001b[0m \u001b[0mnp\u001b[0m\u001b[0;34m.\u001b[0m\u001b[0marray\u001b[0m\u001b[0;34m(\u001b[0m\u001b[0;34m[\u001b[0m\u001b[0;36m4\u001b[0m\u001b[0;34m,\u001b[0m\u001b[0;36m5\u001b[0m\u001b[0;34m,\u001b[0m\u001b[0;36m9\u001b[0m\u001b[0;34m]\u001b[0m\u001b[0;34m)\u001b[0m\u001b[0;34m\u001b[0m\u001b[0m\n\u001b[1;32m      3\u001b[0m \u001b[0mdy3\u001b[0m \u001b[0;34m=\u001b[0m \u001b[0mnp\u001b[0m\u001b[0;34m.\u001b[0m\u001b[0marray\u001b[0m\u001b[0;34m(\u001b[0m\u001b[0;34m[\u001b[0m\u001b[0;36m0.2\u001b[0m\u001b[0;34m,\u001b[0m\u001b[0;36m0.4\u001b[0m\u001b[0;34m,\u001b[0m\u001b[0;36m0.5\u001b[0m\u001b[0;34m]\u001b[0m\u001b[0;34m)\u001b[0m\u001b[0;34m\u001b[0m\u001b[0m\n\u001b[0;32m----> 4\u001b[0;31m \u001b[0mlinfit\u001b[0m\u001b[0;34m.\u001b[0m\u001b[0mLineFitWt\u001b[0m\u001b[0;34m(\u001b[0m\u001b[0mx3\u001b[0m\u001b[0;34m,\u001b[0m\u001b[0my3\u001b[0m\u001b[0;34m,\u001b[0m\u001b[0mdy3\u001b[0m\u001b[0;34m)\u001b[0m\u001b[0;34m\u001b[0m\u001b[0m\n\u001b[0m",
      "\u001b[0;32m/Users/berringtonaca/repos/A212/notebooks/linfit.py\u001b[0m in \u001b[0;36mLineFitWt\u001b[0;34m(x, y, dy)\u001b[0m\n\u001b[1;32m     39\u001b[0m \u001b[0;34m\u001b[0m\u001b[0m\n\u001b[1;32m     40\u001b[0m     \u001b[0;32mif\u001b[0m \u001b[0mlen\u001b[0m\u001b[0;34m(\u001b[0m\u001b[0mx\u001b[0m\u001b[0;34m)\u001b[0m \u001b[0;34m!=\u001b[0m \u001b[0mlen\u001b[0m\u001b[0;34m(\u001b[0m\u001b[0my\u001b[0m\u001b[0;34m)\u001b[0m \u001b[0;32mor\u001b[0m \u001b[0mlen\u001b[0m\u001b[0;34m(\u001b[0m\u001b[0mx\u001b[0m\u001b[0;34m)\u001b[0m \u001b[0;34m!=\u001b[0m \u001b[0mlen\u001b[0m\u001b[0;34m(\u001b[0m\u001b[0mdy\u001b[0m\u001b[0;34m)\u001b[0m\u001b[0;34m:\u001b[0m\u001b[0;34m\u001b[0m\u001b[0m\n\u001b[0;32m---> 41\u001b[0;31m         \u001b[0;32mraise\u001b[0m \u001b[0mValueError\u001b[0m\u001b[0;34m(\u001b[0m\u001b[0;34m\"length of arrays must be equal\"\u001b[0m\u001b[0;34m)\u001b[0m\u001b[0;34m\u001b[0m\u001b[0m\n\u001b[0m\u001b[1;32m     42\u001b[0m \u001b[0;34m\u001b[0m\u001b[0m\n\u001b[1;32m     43\u001b[0m     \u001b[0mx\u001b[0m\u001b[0;34m.\u001b[0m\u001b[0mflatten\u001b[0m\u001b[0;34m(\u001b[0m\u001b[0;34m)\u001b[0m\u001b[0;34m\u001b[0m\u001b[0m\n",
      "\u001b[0;31mValueError\u001b[0m: length of arrays must be equal"
     ]
    }
   ],
   "source": [
    "x3 = np.array([2,3])\n",
    "y3 = np.array([4,5,9])\n",
    "dy3 = np.array([0.2,0.4,0.5])\n",
    "linfit.LineFitWt(x3,y3,dy3)"
   ]
  },
  {
   "cell_type": "code",
   "execution_count": null,
   "metadata": {
    "collapsed": true
   },
   "outputs": [],
   "source": []
  }
 ],
 "metadata": {
  "kernelspec": {
   "display_name": "Python 3",
   "language": "python",
   "name": "python3"
  },
  "language_info": {
   "codemirror_mode": {
    "name": "ipython",
    "version": 3
   },
   "file_extension": ".py",
   "mimetype": "text/x-python",
   "name": "python",
   "nbconvert_exporter": "python",
   "pygments_lexer": "ipython3",
   "version": "3.5.1"
  }
 },
 "nbformat": 4,
 "nbformat_minor": 0
}
